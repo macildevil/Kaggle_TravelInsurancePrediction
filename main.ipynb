{
 "cells": [
  {
   "cell_type": "code",
   "execution_count": 73,
   "metadata": {},
   "outputs": [],
   "source": [
    "import pandas as pd\n",
    "import numpy as np\n",
    "from sklearn.preprocessing import OneHotEncoder, StandardScaler, MinMaxScaler\n",
    "from sklearn.neighbors import KNeighborsClassifier\n",
    "from sklearn.model_selection import train_test_split\n",
    "from sklearn.utils import shuffle\n",
    "from sklearn.ensemble import RandomForestClassifier, BaggingClassifier, GradientBoostingClassifier\n",
    "from sklearn.metrics import accuracy_score, balanced_accuracy_score, confusion_matrix, plot_confusion_matrix, f1_score, roc_auc_score\n",
    "from imblearn.over_sampling import RandomOverSampler"
   ]
  },
  {
   "cell_type": "code",
   "execution_count": 74,
   "metadata": {},
   "outputs": [],
   "source": [
    "data = pd.read_csv('TravelInsurancePrediction.csv', usecols=['Age', 'Employment Type', 'GraduateOrNot', 'AnnualIncome',\n",
    "       'FamilyMembers', 'ChronicDiseases', 'FrequentFlyer',\n",
    "       'EverTravelledAbroad', 'TravelInsurance'])\n",
    "enc = OneHotEncoder()\n",
    "transformed = enc.fit_transform(data[['Employment Type']])\n",
    "data[enc.categories_[0]] = transformed.toarray()\n",
    "data = data.drop(['Employment Type'], axis=1)\n",
    "data['GraduateOrNot'] = data['GraduateOrNot'].replace({'Yes': 1, 'No': 0})\n",
    "data['FrequentFlyer'] = data['FrequentFlyer'].replace({'Yes': 1, 'No': 0})\n",
    "data['EverTravelledAbroad'] = data['EverTravelledAbroad'].replace({'Yes': 1, 'No': 0})\n",
    "\n",
    "\n"
   ]
  },
  {
   "cell_type": "code",
   "execution_count": 75,
   "metadata": {},
   "outputs": [],
   "source": [
    "rand = 0\n",
    "x = data.drop(['TravelInsurance'], axis=1)\n",
    "y = data['TravelInsurance']\n",
    "ss = StandardScaler()\n",
    "x = ss.fit_transform(x)\n",
    "ros = RandomOverSampler(random_state=rand)\n",
    "x_oversampled, y_oversampled = ros.fit_resample(x, y)\n",
    "x_oversampled, y_oversampled = shuffle(x_oversampled, y_oversampled, random_state=rand)\n",
    "x_train, x_test, y_train, y_test = train_test_split(x_oversampled, y_oversampled, test_size=0.2, random_state=rand)"
   ]
  },
  {
   "cell_type": "code",
   "execution_count": 76,
   "metadata": {},
   "outputs": [
    {
     "name": "stdout",
     "output_type": "stream",
     "text": [
      "0.8446354102784251\n",
      "0.8371134020618556\n",
      "0.8446354102784251\n"
     ]
    }
   ],
   "source": [
    "rf = BaggingClassifier(n_estimators=60000, random_state=rand, bootstrap_features=True)\n",
    "rf.fit(x_train, y_train)\n",
    "y_pred = rf.predict(x_test)\n",
    "print(f'Balanced accuracy score: {balanced_accuracy_score(y_test, y_pred)}')\n",
    "print(f'F1 accuracy score: {f1_score(y_test, y_pred)}')\n",
    "print(f'ROC AUC accuracy score: {roc_auc_score(y_test, y_pred)}')"
   ]
  }
 ],
 "metadata": {
  "kernelspec": {
   "display_name": "Python 3.10.8 64-bit (microsoft store)",
   "language": "python",
   "name": "python3"
  },
  "language_info": {
   "codemirror_mode": {
    "name": "ipython",
    "version": 3
   },
   "file_extension": ".py",
   "mimetype": "text/x-python",
   "name": "python",
   "nbconvert_exporter": "python",
   "pygments_lexer": "ipython3",
   "version": "3.10.8"
  },
  "orig_nbformat": 4,
  "vscode": {
   "interpreter": {
    "hash": "ac3a7a1999d2457020d5815ed05c8d29de54915bf5a5c6ec720958ee3a6a6f85"
   }
  }
 },
 "nbformat": 4,
 "nbformat_minor": 2
}
